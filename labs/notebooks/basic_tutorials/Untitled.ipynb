{
 "cells": [
  {
   "cell_type": "code",
   "execution_count": 1,
   "id": "5252627e",
   "metadata": {},
   "outputs": [],
   "source": [
    "%load_ext autoreload\n",
    "%autoreload 2"
   ]
  },
  {
   "cell_type": "code",
   "execution_count": null,
   "id": "1e7ca725",
   "metadata": {},
   "outputs": [],
   "source": []
  },
  {
   "cell_type": "code",
   "execution_count": null,
   "id": "bbf7859e",
   "metadata": {},
   "outputs": [],
   "source": [
    "def gradient_descent_scalar(start_x, func, grad, step_size=0.1, prec=0.0001):\n",
    "    max_iter=100\n",
    "    x_new = start_x\n",
    "    res = []\n",
    "    for i in range(max_iter):\n",
    "        x_old = x_new\n",
    "        \n",
    "        # Use negative step size for gradient descent\n",
    "        x_new = x_old - step_size * grad(x_new)\n",
    "        f_x_new = func(x_new)\n",
    "        f_x_old = func(x_old)\n",
    "        res.append([x_new,f_x_new])\n",
    "        if(abs(f_x_new - f_x_old) < prec):\n",
    "        print(\"change in function values too small, leaving\")\n",
    "        return np.array(res)\n",
    "        print(\"exceeded maximum number of iterations, leaving\")\n",
    "        return np.array(res)"
   ]
  },
  {
   "cell_type": "code",
   "execution_count": null,
   "id": "d174b1e8",
   "metadata": {},
   "outputs": [],
   "source": [
    "def err_func_0_13(x, y):\n",
    "    err = 0\n",
    "    for \n",
    "    \n",
    "def grad_err_func_0_13(x, y):"
   ]
  },
  {
   "cell_type": "code",
   "execution_count": null,
   "id": "5a62aa0d",
   "metadata": {},
   "outputs": [],
   "source": [
    "x = np.arange(-8, 8, 0.001)\n",
    "y = get_y(x)\n",
    "plt.plot(x, y)\n",
    "x_0 = -8\n",
    "res = gradient_descent_scalar(x_0, get_y, get_grad)\n",
    "plt.plot(res[:,0], res[:,1], 'r+')\n",
    "plt.show()"
   ]
  },
  {
   "cell_type": "code",
   "execution_count": null,
   "id": "b0933be9",
   "metadata": {},
   "outputs": [],
   "source": []
  },
  {
   "cell_type": "code",
   "execution_count": null,
   "id": "84fecaf9",
   "metadata": {},
   "outputs": [],
   "source": []
  },
  {
   "cell_type": "code",
   "execution_count": null,
   "id": "f9732e4c",
   "metadata": {},
   "outputs": [],
   "source": []
  }
 ],
 "metadata": {
  "kernelspec": {
   "display_name": "Python 3 (ipykernel)",
   "language": "python",
   "name": "python3"
  },
  "language_info": {
   "codemirror_mode": {
    "name": "ipython",
    "version": 3
   },
   "file_extension": ".py",
   "mimetype": "text/x-python",
   "name": "python",
   "nbconvert_exporter": "python",
   "pygments_lexer": "ipython3",
   "version": "3.9.12"
  }
 },
 "nbformat": 4,
 "nbformat_minor": 5
}
